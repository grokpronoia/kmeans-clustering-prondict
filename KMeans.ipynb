{
 "cells": [
  {
   "cell_type": "code",
   "execution_count": 1,
   "metadata": {},
   "outputs": [],
   "source": [
    "import numpy as np\n",
    "import pandas as pd\n",
    "import math\n",
    "\n",
    "from matplotlib import pyplot as plt\n",
    "from sklearn.feature_extraction.text import TfidfVectorizer, CountVectorizer\n",
    "from sklearn.cluster import KMeans\n",
    "from sklearn.metrics import adjusted_rand_score\n",
    "\n",
    "%config IPCompleter.greedy=True\n",
    "%matplotlib inline\n",
    "np.set_printoptions(precision=5, suppress=True)"
   ]
  },
  {
   "cell_type": "code",
   "execution_count": 2,
   "metadata": {},
   "outputs": [
    {
     "name": "stdout",
     "output_type": "stream",
     "text": [
      "Data shape ---> (63708, 2)\n",
      "Words shape ---> (63708,)\n",
      "Phones shape ---> (63708,)\n",
      "----------\n",
      "Data Sample: \n",
      "    Words                    Phones\n",
      "0     2.                      T UW\n",
      "1     3D              TH R IY D IY\n",
      "2     3M              TH R IY EH M\n",
      "3   401K     F OW R OW W AH N K EY\n",
      "4  401KS   F OW R OW W AH N K EY Z\n",
      "5  90210  N AY N OW T UW W AH N OW\n"
     ]
    }
   ],
   "source": [
    "location = '/Users/marrowgari/tensorflow/pron.txt'\n",
    "data = pd.read_csv(location, names=('Words', 'Phones'))\n",
    "words = data['Words']\n",
    "phones = data['Phones']\n",
    "\n",
    "print(\"Data shape --->\", data.shape)\n",
    "print(\"Words shape --->\", words.shape)\n",
    "print(\"Phones shape --->\", phones.shape)\n",
    "print('----------')\n",
    "print(\"Data Sample:\",\"\\n\", data[:6])"
   ]
  },
  {
   "cell_type": "code",
   "execution_count": 3,
   "metadata": {},
   "outputs": [],
   "source": [
    "vectorizer = CountVectorizer(stop_words='english', ngram_range=(1,3))\n",
    "X = vectorizer.fit_transform(phones)"
   ]
  },
  {
   "cell_type": "code",
   "execution_count": 4,
   "metadata": {},
   "outputs": [
    {
     "data": {
      "text/plain": [
       "(63708, 7597)"
      ]
     },
     "execution_count": 5,
     "metadata": {},
     "output_type": "execute_result"
    }
   ],
   "source": [
    "X.shape"
   ]
  },
  {
   "cell_type": "code",
   "execution_count": 6,
   "metadata": {},
   "outputs": [
    {
     "data": {
      "text/plain": [
       "KMeans(algorithm='auto', copy_x=True, init='k-means++', max_iter=5000,\n",
       "    n_clusters=100, n_init=1, n_jobs=1, precompute_distances='auto',\n",
       "    random_state=None, tol=0.0001, verbose=0)"
      ]
     },
     "execution_count": 7,
     "metadata": {},
     "output_type": "execute_result"
    }
   ],
   "source": [
    "true_k = 100\n",
    "model = KMeans(n_clusters=true_k, init='k-means++', max_iter=5000, n_init=1)\n",
    "model.fit(X)"
   ]
  },
  {
   "cell_type": "code",
   "execution_count": 8,
   "metadata": {},
   "outputs": [],
   "source": [
    "from sklearn.pipeline import Pipeline\n",
    "\n",
    "# combine vectorizer and cluster model into one object\n",
    "phone_cluster_model = Pipeline(steps=[('encode', vectorizer), ('model', model)])"
   ]
  },
  {
   "cell_type": "code",
   "execution_count": 9,
   "metadata": {},
   "outputs": [],
   "source": [
    "word_idx_lookup = {w: idx for idx, w in enumerate(words)}\n",
    "\n",
    "def cluster_for_word(word):\n",
    "    \"\"\"\n",
    "    For a given word, lookup phones and pass to clustering model, return cluster\n",
    "    \"\"\"\n",
    "    word_idx = word_idx_lookup[word]\n",
    "    phones_for_word = phones[word_idx]\n",
    "    cluster = phone_cluster_model.predict([phones_for_word])[0]\n",
    "    return cluster"
   ]
  },
  {
   "cell_type": "code",
   "execution_count": 10,
   "metadata": {},
   "outputs": [],
   "source": [
    "def group_words_by_cluster(words):\n",
    "    \"\"\"\n",
    "    Create groups of words by cluster (from phones)\n",
    "    \"\"\"\n",
    "    words_by_cluster = {}\n",
    "    for word in words:\n",
    "        cluster = cluster_for_word(word)\n",
    "        word_set = words_by_cluster.get(cluster, set())  # get the set of words, or empty set if not exists\n",
    "        word_set.add(word)\n",
    "\n",
    "        words_by_cluster[cluster] = word_set # save the modified set back into the grouping dict\n",
    "    return words_by_cluster\n",
    "\n",
    "words_by_cluster = group_words_by_cluster(words)"
   ]
  },
  {
   "cell_type": "code",
   "execution_count": 11,
   "metadata": {},
   "outputs": [
    {
     "name": "stdout",
     "output_type": "stream",
     "text": [
      "Cluster[57 len3376]:['COURTROOM', 'FROWN', 'PEERS', 'BEARER', 'BROWSED', 'COUPS', 'LORD', 'BREACH', \"HAIR'S\", 'FRUTZ']\n",
      "Cluster[77 len616]:[\"PEVIE'S\", 'DILLYDALLY', 'NEARY', 'TEEPEE', 'LINGUINE', 'WEIRDLY', 'PEEZIE', 'MEDIATOR', 'GEDS', \"GRISTITI'S\"]\n",
      "Cluster[13 len816]:['ACCIDENTLY', \"DENNY'S\", 'STEADY', 'STEPHIE', 'VEGGIES', 'MIDDLEBURY', 'TRENEY', 'CLEANLIEST', 'CORONARYS', \"PENNY'S\"]\n",
      "Cluster[55 len1848]:['COCO', 'ROAR', 'BOLD', 'LOE', \"SMOKERS'\", 'SCHROEDER', 'STROLLED', 'DSOS', 'SAILBOATS', 'MOLE']\n",
      "Cluster[58 len172]:['BELAIR', 'WEBPAGE', 'ENRAGE', 'ALLENDE', 'HEADWAYS', 'BELGRADE', 'STRANGENESS', 'LASEYETTE', 'WEBPAGES', 'X-RAY']\n",
      "Cluster[70 len1802]:[\"LANDSCAPER'S\", 'MAILERS', \"CRANE'S\", 'TRAINERS', 'OCTANE', 'UYAY', 'ACED', 'TEENAGEHOOD', 'GAGE', 'CLAIMED']\n",
      "Cluster[83 len422]:['MICHIGANIAN', 'ECHOLALIA', 'IGLESIAS', \"BABIES'\", \"CHANEY'S\", 'BABYISH', 'PENNSYLVANIAN', \"LADIES'\", 'MANIACS', 'LADYBIRD']\n",
      "Cluster[26 len91]:['DECONTAMINATE', 'UPGRADED', 'PROMULGATE', 'SOMEDAYS', 'MAKE-UP', 'NUTCASES', 'HURRAY', 'UPDATES', 'UPGRADES', 'SUBWAYS']\n",
      "Cluster[51 len1559]:['GALLEONS', 'VARIANCE', 'MURIEL', 'BANKRUPTCIES', 'TAMILA', 'BILA', 'AMELIA', 'IOL', 'HARRIET', 'SMITHEREENS']\n",
      "Cluster[10 len232]:['CRAYFISH', 'JAVINS', 'INGRAINS', 'BABYSITTINGWISE', 'DESTABULATION', 'MAKESHIFT', 'AMERICADE', 'INSINUATE', 'MIDDAY', 'NOMINATIONS']\n",
      "Cluster[6 len3459]:['LANCE', 'STRAPPED', 'SALLIE', 'ALOE', 'MATCH', 'PAC', 'ANTON', 'BYPASSED', 'CRANK', 'THANKED']\n",
      "Cluster[98 len148]:['COUNTERBALANCES', 'CARROLLTON', 'MIRACULOUS', 'AMBULANCE', 'ANTAGONIZING', 'COMPANIONABLE', 'AVARGAS', \"CANADA'S\", 'NATIONALLY', 'INACCURACY']\n",
      "Cluster[71 len1378]:['CAMPBELLS', 'SAMPLES', 'ZARA', 'AGGRAVATE', 'SABOTAGED', 'AGONIZE', 'VANDALS', 'DRAMATIZED', 'ABSENTEES', 'ATMOSPHEREWISE']\n",
      "Cluster[67 len161]:['PARAMETERS', 'CASSANDRA', 'MEDALLIONS', 'ARANCA', 'CATAMARAN', 'COMPANION', 'NAVANNA', \"SAMANTHA'S\", 'ASPARAGUS', 'MEMORANDUMS']\n",
      "Cluster[60 len285]:['BLACKENING', 'UNQUESTIONING', 'FINALLING', 'LISTENING', 'SCAFFOLDING', 'SNICKERING', 'PICKERING', 'CANCELLING', 'SYNDICATING', 'CRUMBLING']\n",
      "Cluster[33 len736]:['AVERY', 'DREIDEL', 'MANAYUNK', 'MUTATED', 'DATUM', 'APPRAISED', 'AMPUTATED', 'NATALIA', 'TRADESMAN', 'AVEDA']\n",
      "Cluster[90 len526]:['MARIJUANA', 'PLAZAS', 'TARGA', 'SNARLED', 'FARAWAY', 'HARLOT', 'MORPHOLOGY', 'OVERCOMPENSATED', 'YARMULKE', 'YARMULKES']\n",
      "Cluster[47 len385]:['UNCORROBORATED', 'FORMULATED', 'OVERPOPULATING', 'TRIANGULATING', 'AFFILIATED', 'VENTILATING', 'DEREGULATED', 'DEPRECIATED', 'LATEST', 'EXASPERATED']\n",
      "Cluster[1 len426]:['GESTATION', 'EDUCATIONS', 'CONFRONTATIONS', 'ILLUSTRATION', 'DEPORTATION', 'INFLAMMATION', \"POPULATION'S\", 'SUMMATION', 'VOCATIONS', 'PUNCTUATION']\n",
      "Cluster[22 len788]:[\"TACOMA'S\", 'GROSSNESS', 'CONET', 'FORDHAM', 'NOBLE', 'IBUPROFEN', 'DETROLAC', 'OPENED', 'KOKOMO', 'YONA']\n",
      "Cluster[9 len577]:['COGNIZANT', 'BONDAGE', 'CROCKETT', 'WOMPED', 'PROMINENCE', 'MYOPIC', 'GOSSIPY', 'ORANGE', 'COLLIN', 'MISOGYNIST']\n",
      "Cluster[46 len320]:['UNTARNISHED', 'UPLIFT', 'INSULTED', 'ULTIMATELY', 'HUNTSVILLE', 'CULTIVATE', 'ENCRUSTED', 'NON-PUBLIC', 'UNJUSTIFIED', 'NOURISHMENT']\n",
      "Cluster[28 len459]:['DUMMIES', 'MULTIBILLIONAIRES', 'BUCKEY', 'MULTI-LAYERED', 'RUNNY', 'CRUSTY', 'PLUMPY', 'SUNNYVALE', \"RUGBY'S\", 'KEYPUNCH']\n",
      "Cluster[74 len184]:['BUFFING', 'ONCOMING', 'CHUGGING', 'SUCKING', 'FUNDING', 'HULKING', 'CHUCKLING', 'HUNTINGDON', 'PEACE-LOVING', 'COVINGTON']\n",
      "Cluster[69 len282]:['MANSION', 'TRACTION', 'TRASHIER', 'ASHLEIGH', 'REACTIONS', 'CASHED', 'CASHES', 'NASHUA', 'SLASHED', 'CIRCUMSTANTIAL']\n",
      "Cluster[75 len708]:[\"TERRORIST'S\", \"BARTENDER'S\", \"WHATEVER'S\", \"DEMPSTER'S\", 'LECTURED', 'EMPOWERED', 'KESSLER', 'LECTURERS', 'ELLERDALE', 'ADVENTURERS']\n",
      "Cluster[7 len2069]:[\"TRIAL'S\", 'ICEWIND', \"DRIVE'S\", 'WHITMIRE', 'LICE', 'SONDHEIM', 'HIGHEST', 'THAI', 'PRIZED', 'MIDWIVES']\n",
      "Cluster[14 len771]:['SYMPOSIUM', 'GEO', 'NOTEWORTHY', 'PHOBIAS', 'HOLINESS', 'SCHIZO', 'COLINAS', \"CAUCONCHIO'S\", 'SOCIO-GRAPHIC', 'ADOBE']\n",
      "Cluster[62 len435]:['DEION', 'OLLIE', 'MOLLY', 'COTTIE', 'FROSTIES', \"SORRY'\", 'DOTTY', 'FOLLY', 'BODY', 'ROXY']\n",
      "Cluster[52 len561]:['GROCERY', 'LEESBURG', 'SPIELBERG', 'OVERSEEN', 'PRE-ARRANGED', 'DREAMCATCHER', 'FEEDER', 'RESEARCHED', 'SQUEAKER', 'WINDIER']\n",
      "Cluster[32 len1491]:['FRIENDLESS', 'DISRESPECTFUL', 'M&MS', 'JANETTE', 'ENGELWOOD', 'EXTRA', 'REPRESS', 'BEBBLE', 'SPECTRUMS', 'DERRA']\n",
      "Cluster[68 len101]:[\"TRANSPORTATION'S\", 'CONSIDERATIONS', 'REFRIGERATION', 'CONSIDERATION', 'COLORATION', 'OBSERVATION', 'PROLIFERATIONS', 'RESERVATION', 'FLIRTATION', 'DECORATION']\n",
      "Cluster[43 len780]:['PROMOTING', 'CLOTTING', 'NAUTICAL', 'SEATED', \"SITTING'S\", 'EATING', 'PERSECUTED', 'EMOTICONS', 'DEFEATING', 'ADVERTISEMENTS']\n",
      "Cluster[44 len74]:['OPPRESSOR', 'PROFESSOR', 'SELECTOR', 'COLLECTORS', 'PROTECTOR', 'CONFEDERATE', 'CHOLESTEROL', 'ELECTOR', 'ADVENTURESOME', 'EXPERIMENTERS']\n",
      "Cluster[27 len589]:['REORGANIZE', 'AWARDS', 'ASHORE', 'HORSEMEN', 'ADORED', 'WARBLE', 'FLORALS', 'FOREIGNER', 'ABNORMAL', 'ANGORAS']\n",
      "Cluster[50 len275]:['ARISING', 'LIKING', 'SHINING', 'SMILING', 'SYNTHESIZING', 'DYEING', 'CLIMBING', 'REALIZING', 'DEMORALIZING', 'DIVING']\n",
      "Cluster[66 len1062]:['BRAGGING', 'ALFRED', \"CHARACTERS'\", 'HORSERADISH', 'PALIN', 'BRANDISHING', 'GRAPHIC', 'ACTIVELY', 'LANCING', 'MACKINTOSH']\n",
      "Cluster[31 len316]:['CURIOSITY', 'INIQUITY', 'COMPLEXITIES', \"ACTIVITY'S\", 'ETHNOCENTRICALLY', 'HUMILITY', 'MODERNITY', 'HEREDITY', 'ODDITIES', \"SOCIETY'S\"]\n",
      "Cluster[95 len1659]:['WHEREBY', 'YES', 'EXPAND', \"ELSE'D\", 'TIDWELL', 'SPELLED', 'ELF', 'ENDORSED', 'PESTS', 'ETCHED']\n",
      "Cluster[97 len151]:['RATIONALITY', 'GRANULARITY', 'INHABITED', 'CALAMITY', 'FRUGALITY', 'GENERALITIES', \"MENTALITY'S\", 'IMPARTIALITY', 'INHUMANITY', 'CAPACITORS']\n",
      "Cluster[24 len507]:['VIOLENT', 'INCORRUPTIBLE', 'OCCASIONALLY', 'UNLOVABLE', 'EXCITABLE', 'INESCAPABLE', 'UNREASONABLE', 'JUSTIFIABLE', 'SURVIVABLE', \"MISELMAN'S\"]\n",
      "Cluster[63 len114]:['EXHILARATION', 'CAPITALIZATION', \"ORGANIZATION'S\", 'CIVILIZATIONS', 'SENSATIONALIST', 'COMMUNICATION', 'DIVERSIFICATION', 'TELECOMMUNICATIONS', 'REGIONALIZATION', 'ABOMINATION']\n",
      "Cluster[17 len510]:['SYMBOLISMS', 'SINAVILLE', 'HYPOTHESIZED', 'EVANGELISTIC', 'GEOPOLITICAL', 'INDIVISIBLE', 'OVERPOWERING', 'EXPANSIONISM', 'CALISTA', 'AFFIXED']\n",
      "Cluster[12 len83]:['SOCIALISTIC', 'SOCIABLE', 'SOCIOPATH', 'ANTISOCIAL', 'COERCION', 'DISASSOCIATE', 'POTIONS', 'EMOTIONS', 'PRECOCIOUS', 'SCOTIA']\n",
      "Cluster[65 len579]:['AMOUNT', 'VAGINA', 'SALIVA', 'BALLOON', 'ASSUME', 'WAREHAM', 'LECLAIRE', 'AHEM', 'ASTAIRE', 'MATURE']\n",
      "Cluster[8 len844]:['MINGLING', 'OWING', 'POACHING', 'BOBBING', 'SPRINGING', 'INDULGING', 'BURPING', 'SHROUDING', 'HOWLING', 'SCRATCHING']\n",
      "Cluster[99 len592]:['HUTTON', 'JUMBLE', 'SUSTENANCE', 'ENGULFS', 'DEDUCTIBLE', 'BUTTONED', 'OVEN', 'HULDA', 'SUBSTANCE', 'SUCCASUNNA']\n",
      "Cluster[53 len455]:['SAMENESS', 'REJUVENATES', 'DISMAY', 'EQUATES', 'MATRICES', 'NAKEDNESS', 'MALROTATED', 'BERATED', 'BASELESS', 'CHAMINADE']\n",
      "Cluster[40 len2427]:[\"MICKY'S\", 'RICHEST', 'STILLBORN', 'FIZZ', 'VOUCHERING', 'DISHES', 'SWISHES', 'THINGY', 'KALIK', 'CROSS-STITCHED']\n",
      "Cluster[41 len1243]:['TINSEL', 'NICHOLLS', 'WILLFULLY', \"THIS'LL\", 'ALCOHOLISM', 'GUERRILLAS', 'TINSELTOWNS', 'TRILOGIES', 'SIMPLER', 'CHEESINESS']\n",
      "Cluster[2 len462]:[\"CUCKOO'S\", 'JUMANJI', 'TEASPOON', 'ACTUARY', 'JULIETTE', 'BUOY', 'CQ-TEN', \"EUREKA'S\", \"ROOMIE'S\", 'LUCY']\n",
      "Cluster[92 len604]:[\"HONOLULU'S\", 'QUADRUPLED', 'LUDICROUSLY', 'DUFUSES', 'INHUMAN', 'UNIONIZED', 'USEABLE', 'RENEWALS', 'RHEUMATOID', 'NEWTON']\n",
      "Cluster[59 len166]:['DORMING', 'FORFEITING', 'BALLING', 'RECALLING', 'GALLING', 'FORCING', 'TALKING', 'DEFAULTING', 'CAULKING', 'DAUNTING']\n",
      "Cluster[23 len276]:['EMIGRATING', 'TAPING', 'SAYING', 'BEHAVING', 'MONEYMAKING', 'DEREGULATING', 'STAINING', 'DEFAMING', 'PLACING', 'CHAINING']\n",
      "Cluster[36 len1487]:['T-SHIRT', 'WAPNER', 'CROSSWORDS', \"CIRCLE'S\", 'MILLBURN', 'SIR', 'SLIVERED', 'SCOUTER', 'ADVERB', \"JASPER'S\"]\n",
      "Cluster[39 len350]:['THIRTYISH', 'REHEARSES', 'ETERNALLY', 'DISTURBANCE', 'DISTURBANCES', 'CERVICAL', 'EMERGING', \"DESERT'S\", 'RETURNED', 'DIVERGING']\n",
      "Cluster[19 len49]:['UNBELIEVABLY', 'TUSCANY', 'FUNDAMENTALLY', 'CUTLERY', 'UNCONCEALED', 'ACCOMPANIES', 'SUBMARINE', 'ACCOMPANY', \"COMPANIES'\", 'COMPANY']\n",
      "Cluster[30 len290]:[\"JUNIOR'S\", \"STEWARDESS'\", 'RE-DOERS', 'BREWERS', \"NEWARK'S\", 'NEWER', 'ROOSTER', 'RUPERT', 'KRUGER', 'SEWER']\n",
      "Cluster[16 len457]:['PREBUILT', 'BARBECUEING', 'BRUINS', 'MISUSE', 'ROOTLESS', 'RULING', 'DOING', \"UNIT'S\", 'BROODING', 'RECOUPING']\n",
      "Cluster[61 len1282]:[nan, 'GRUBS', 'BUGS', 'CLUCK', 'SHUTDOWN', 'STUDDARD', 'CRUST', \"MUM'S\", 'WONDERLAND', \"GODMOTHER'S\"]\n",
      "Cluster[82 len212]:['RECIPIENTS', 'SIBERIANS', 'VIVIEN', 'MISSISSIPPIAN', 'UNMATERIALISTIC', 'SERIOUS', 'INDIAS', 'LIBYAN', 'CONDOMINIUMS', 'IDIOSYNCRASIES']\n",
      "Cluster[21 len322]:['ALLEGEDLY', 'AMENDED', 'GENITAL', 'ETHNICALLY', 'SUCCESSES', 'ANOREXIC', 'BIOMEDICAL', 'IDENTICALLY', 'IDENTICAL', 'PROGRESSIVELY']\n",
      "Cluster[56 len659]:['BATTERY', 'FIGHTERS', 'WAITERED', \"BATTER'S\", 'INTERDEPENDENCE', 'SATURN', 'DECORATOR', \"PROSECUTOR'S\", \"VETERAN'S\", 'VISITORS']\n",
      "Cluster[25 len172]:['ADDRESSABLE', 'UNDETECTABLE', 'ETC', 'ELEPHANTS', 'EXTRATERRESTRIAL', 'INFLEXIBLE', 'DEPENDABLE', 'ELOQUENTLY', 'UNTENABLE', 'REGULATORY']\n",
      "Cluster[84 len689]:['CENTRISTS', 'CLERIC', 'MISSPELLINGS', 'TIBETAN', 'DRESSES', 'EMINI', 'REFLECT', 'RELICS', 'IMMENSE', 'CRYOGENICALLY']\n",
      "Cluster[73 len245]:['RESPECTING', 'FLEMINGS', 'REVVING', 'TENSING', 'REJECTING', 'REPELLING', 'TEMPINGS', \"PENNINGTON'S\", 'COLLECTING', 'HOSTESSING']\n",
      "Cluster[38 len210]:['ENTRENCHED', 'SCELLERA', 'CHARLESETTA', 'LEVEK', 'THEIRSELF', 'EXECUTIVES', \"MONTEBELLO'S\", 'LSD', 'CNN', 'EXPENSE']\n",
      "Cluster[72 len198]:['LEGISLATING', 'LITIGATED', 'INCAPACITATED', 'ELIMINATED', 'SCINTILLATING', 'INDOCTRINATING', 'PREDICATED', 'LEGISLATED', 'CAPTIVATED', 'ESTIMATED']\n",
      "Cluster[5 len792]:['BROCKBANK', \"SCOTLAND'S\", 'COMMONWEALTH', 'ONCOLOGY', 'TOMAHAWK', 'APOCALYPTIC', 'AUTOCRACY', 'BROCKTON', 'DOROTHY', 'CHRONOLOGY']\n",
      "Cluster[29 len221]:['COMBINATION', 'DEMOCRATIZATION', 'GUESTIMATION', 'SOLICITATIONS', 'IMPLICATION', 'SPECIFICATION', 'VERIFICATION', \"DOMESTICATION'S\", 'OSCILLATIONS', 'INVITATIONAL']\n",
      "Cluster[76 len320]:['SUBJECTIONAL', 'EXTENSION', 'REGRESSION', 'CONCESSION', 'AFFECTION', 'DEFLECTION', 'PRECONCEPTIONS', 'REINVENTION', 'SELECTIONS', 'PROFESSIONALS']\n",
      "Cluster[79 len290]:['VARYING', \"EVENING'S\", 'FEARING', 'LEAKING', 'PEEPING', 'SNEAKING', 'QUARANTINING', 'TEASING', 'RESCREENING', 'EXCEEDING']\n",
      "Cluster[42 len1748]:['BARLEY', 'CZAR', 'SUBMARKETS', 'CALM', 'MARG', \"ENTREE'S\", 'PA', 'BLA', 'BERNABI', 'DARLENE']\n",
      "Cluster[45 len1009]:['INSTINCTIVE', 'INSTINCT', 'GILLIS', 'WINNIPEG', 'CYNIC', 'CLINICALLY', 'FORGIVENESS', 'TRICYCLES', 'UNWILLINGLY', 'DIMINISHED']\n",
      "Cluster[20 len352]:['PITTSBOROUGH', 'ZIPPO', 'DIPLOMAT', 'BERNALILLO', 'MONTESSORIES', 'BISTRO', 'OVERDID', 'EUROCENTRIC', 'FISHBOWL', 'YOSICK']\n",
      "Cluster[54 len380]:['BOISTEROUS', \"BOYS'LL\", 'COWBOY', 'OINTMENT', 'ENDPOINT', 'FOYSON', 'BELLOIT', 'VOYAGE', 'TOILETRIES', 'INVOICE']\n",
      "Cluster[3 len454]:['CHRYSLER', \"DRYER'S\", 'MINDER', 'PACIFIER', 'HAIRDRYER', 'FIREHOUSE', 'HIGHER', 'ASPIRED', \"NINER'S\", 'BRIAR']\n",
      "Cluster[80 len401]:['TECHNICIAN', 'KRISHNA', 'OFFICIALS', 'MALNUTRITION', 'CLINICIAN', \"GRISHMAN'S\", 'INQUISITION', 'DEFICIENCY', 'POSITIONS', \"PEDIATRICIAN'S\"]\n",
      "Cluster[64 len67]:['OVERACTED', 'ATTENBOROUGH', 'ANECDOTAL', 'CALCITONES', 'RADIOACTIVE', 'ROMANCES', 'SCHOLASTICALLY', 'MICROGRAPHICS', 'TOTALITARIAN', 'CALICO']\n",
      "Cluster[78 len153]:['SCIATIC', 'STRATEGIES', 'PISCATAWAY', 'CATARACTS', \"ATTITUDE'S\", 'NUMISMATIC', 'MATHEMATICALLY', 'CATALYTIC', 'TRANSATLANTIC', 'PLATINUM']\n",
      "Cluster[34 len299]:['ZOVIRAX', 'T-BONED', 'PHOBIC', 'CARTILAGE', 'PLASMOSIS', 'MISO', 'EXPLORED', 'PROGNOSIS', 'CLOSES', 'DISPOSED']\n",
      "Cluster[94 len338]:['RACEHORSES', 'FORTUNATES', 'RAINFORESTS', 'WORKAHOLIC', \"AUDITOR'S\", 'HALTED', 'LAUNCHES', 'OFFICER', \"AUSTEN'S\", 'CORBETT']\n",
      "Cluster[91 len325]:['INQUIRE', 'MAGNIFY', 'DEPRIVE', 'SPECIFY', 'UNIDENTIFIED', 'RELIABLY', 'ANNUALIZED', 'DENIED', 'INSPIRED', 'RESIGN']\n",
      "Cluster[0 len162]:['QUESTIONS', 'FRESH', 'FRESHERS', \"SHELLEY'S\", 'KRUSCHEV', 'SHERI', 'REFRESHER', \"SHELBY'S\", \"CHEFS'\", 'FRIENDSHIP']\n",
      "Cluster[48 len184]:['JUNGLES', \"YOUNGEST'S\", 'YOUNGISH', 'GUNKY', 'SKUNK', 'PODUNK', \"MONKEY'S\", 'COMPUNCTION', 'MONKEYS', 'JUNKIN']\n",
      "Cluster[81 len279]:['TECHNO', 'GRECO', 'ELMO', 'ENCLOSURE', 'VESCO', 'MELLOW', 'RETROFIT', 'GHETTO', 'BELLOW', 'MEADOW']\n",
      "Cluster[18 len134]:['LIBRARIANS', 'ENVIOUS', 'YESENIA', 'TERRESTRIAL', 'SEMICONDUCTOR', 'DOLPHINARIUM', 'READINESS', 'MILLENNIUMS', 'CENTENNIAL', 'ALEXIA']\n",
      "Cluster[87 len215]:['HERBALISTS', 'MOTHER-IN-LAW', 'PREJUDICED', 'ECONOMISTS', 'FAITHFULNESS', 'PROPORTIONATE', 'LOYALIST', 'ROSALYN', 'NATURALNESS', 'OPPOSITES']\n",
      "Cluster[89 len213]:['SHATTERINGLY', 'DISEMPOWERING', 'OFFERINGS', 'STUTTERING', 'TOWERING', 'COVERING', 'UMPIRING', 'SPUTTERING', 'ENCOUNTERING', 'UTTERING']\n",
      "Cluster[4 len1118]:['PLOTS', 'POPCORNS', 'THON', \"HOTDOG'S\", 'INBOX', 'OBSERVANT', 'JOHN', \"BOMBER'S\", \"GODFATHER'S\", 'WOP']\n",
      "Cluster[85 len288]:['HEALTH', 'HELPLINE', 'MOORHEAD', 'BONEHEAD', 'HEALTHCARE', 'HEADY', 'HELMET', 'HEAVILY', 'HELPFUL', 'COONHEAD']\n",
      "Cluster[93 len312]:['TUMWATER', 'WATERVILLE', 'SUPPORTERS', 'TRANSFORMERS', 'COURTERS', 'AUBURNDALE', 'OUTPERFORM', 'HORRORS', 'WALMER', 'WHITEWATER']\n",
      "Cluster[15 len145]:['SPECULATOR', 'SEGREGATION', 'EXCOMMUNICATED', 'RENOVATION', 'DERIVATION', 'DETONATES', 'REPUTATIONS', 'RESONATES', 'REGULATES', 'PENETRATES']\n",
      "Cluster[96 len75]:['VALLARTA', \"NEVADA'S\", 'SONATA', 'GUATEMALAN', 'MASSAGES', 'CHIKAMARGA', 'DJAKARTA', 'FEDERALDES', 'GUATEMALANS', 'MIZARAKA']\n",
      "Cluster[11 len517]:['CORNEY', 'SONORA', 'MAJKOWSKI', 'OFFBEAT', 'TULLYESA', 'HAWLEY', 'CLAUDINE', 'MCGORIAN', 'LONGSDORF', 'SHEEPDOG']\n",
      "Cluster[88 len641]:['FIGURED', 'INTERVIEWEE', 'KIPPUR', 'KITCHENER', 'SILVERSMITH', \"TIMBER'S\", 'ROTOTILLER', 'FILTERED', 'INTERTWINES', 'INWARD']\n",
      "Cluster[86 len27]:['DISILLUSION', 'USUALS', 'EXCLUSIONARY', 'ILLUSIONIST', 'DELUSION', 'FUSION', 'INFUSION', 'CONCLUSION', 'DISILLUSIONS', 'ALLUSIONS']\n",
      "Cluster[37 len242]:['INSPECTED', 'DIRECTING', 'ESTIMATE', 'DETECTIVE', 'REQUISITE', 'RETROSPECTIVE', 'DEFENDED', 'DEFENSIVE', 'HYSTERICALLY', 'KINETICS']\n",
      "Cluster[49 len106]:['RECLINING', 'SACRIFICING', 'DISSATISFYING', 'UTILIZING', 'DEFYING', 'PRESCRIBING', 'VICTIMIZING', 'PETRIFYING', 'FALSIFYING', 'MISGUIDED']\n",
      "Cluster[35 len51]:['ARSENY', 'PRETECHNOLOGY', 'CARMELINA', 'MARGUERITE', 'WARRANTY', 'BUREAUCRACY', 'CHRONOLOGICALLY', 'DISHARMONY', 'MARGUERITA', 'MARGARITTE']\n"
     ]
    }
   ],
   "source": [
    "# for each cluster, print the cluster and 10 words in that cluster in no particular order\n",
    "for cluster, cluster_words in words_by_cluster.items():\n",
    "    cluster_words = list(cluster_words)\n",
    "    words_in_cluster = len(cluster_words)\n",
    "    print(\"Cluster[{} len{}]:{}\".format(cluster, words_in_cluster, cluster_words[:10]))"
   ]
  }
 "metadata": {
  "kernelspec": {
   "display_name": "Python 3",
   "language": "python",
   "name": "python3"
  },
  "language_info": {
   "codemirror_mode": {
    "name": "ipython",
    "version": 3
   },
   "file_extension": ".py",
   "mimetype": "text/x-python",
   "name": "python",
   "nbconvert_exporter": "python",
   "pygments_lexer": "ipython3",
   "version": "3.6.4"
  }
 },
 "nbformat": 4,
 "nbformat_minor": 2
}
